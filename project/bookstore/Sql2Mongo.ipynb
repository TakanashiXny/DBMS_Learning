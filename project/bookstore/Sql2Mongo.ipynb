{
 "cells": [
  {
   "cell_type": "code",
   "execution_count": null,
   "metadata": {},
   "outputs": [],
   "source": [
    "import pymongo\n",
    "import sqlite3"
   ]
  },
  {
   "cell_type": "code",
   "execution_count": null,
   "metadata": {},
   "outputs": [],
   "source": [
    "#连接\n",
    "conn = sqlite3.connect('E:/学习/大三上/当代数据管理系统/book_lx.db')\n",
    "cur = conn.cursor()\n",
    "\n",
    "# 查看DB文件里有哪些表\n",
    "cur.execute(\"select * from sqlite_master\").fetchall()"
   ]
  },
  {
   "cell_type": "code",
   "execution_count": null,
   "metadata": {},
   "outputs": [],
   "source": [
    "book_attribute = ['title', 'author', 'publisher', 'original_title', 'translator', 'pub_year', 'pages',\n",
    "                  'price', 'current_unit', 'binding', 'isbn', 'author_intro', 'book_intro', 'content', \n",
    "                  'tags', 'picture']"
   ]
  },
  {
   "cell_type": "code",
   "execution_count": null,
   "metadata": {},
   "outputs": [],
   "source": [
    "host = '127.0.0.1'\n",
    "port = 27017\n",
    "client = pymongo.MongoClient(host, port)\n",
    "\n",
    "# 切换数据库\n",
    "db = client.bookstore # 没有会自动创建"
   ]
  },
  {
   "cell_type": "code",
   "execution_count": null,
   "metadata": {},
   "outputs": [],
   "source": [
    "# 获取集合，如果没有则自动创建，在python中用users_col指代\n",
    "users_col = db.books"
   ]
  },
  {
   "cell_type": "code",
   "execution_count": null,
   "metadata": {},
   "outputs": [],
   "source": [
    "# 获取数据库中所有的书\n",
    "sql = 'select * from book'\n",
    "cur.execute(sql)\n",
    "books = cur.fetchall()\n",
    "print(books[0])\n",
    "cur.close()"
   ]
  },
  {
   "cell_type": "code",
   "execution_count": null,
   "metadata": {},
   "outputs": [],
   "source": [
    "book_tmp = [\n",
    "    dict(zip(book_attribute, list(eachBook)[1:])) for eachBook in books\n",
    "]\n",
    "users_col.insert_many(book_tmp)\n",
    "\n",
    "# for eachBook in books:\n",
    "#     value = dict(zip(book_attribute, list(eachBook)[1:]))\n",
    "#     users_col.insert_one(value)\n",
    "# print(\"OK\")"
   ]
  },
  {
   "cell_type": "code",
   "execution_count": null,
   "metadata": {},
   "outputs": [],
   "source": [
    "content = users_col.find()\n",
    "for each in content:\n",
    "    print(each)\n",
    "    break"
   ]
  },
  {
   "cell_type": "code",
   "execution_count": null,
   "metadata": {},
   "outputs": [],
   "source": [
    "# 关闭数据库连接\n",
    "client.close()"
   ]
  },
  {
   "cell_type": "code",
   "execution_count": null,
   "metadata": {},
   "outputs": [],
   "source": []
  }
 ],
 "metadata": {
  "kernelspec": {
   "display_name": "base",
   "language": "python",
   "name": "python3"
  },
  "language_info": {
   "codemirror_mode": {
    "name": "ipython",
    "version": 3
   },
   "file_extension": ".py",
   "mimetype": "text/x-python",
   "name": "python",
   "nbconvert_exporter": "python",
   "pygments_lexer": "ipython3",
   "version": "3.9.12"
  }
 },
 "nbformat": 4,
 "nbformat_minor": 2
}
